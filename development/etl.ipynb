{
 "cells": [
  {
   "cell_type": "code",
   "execution_count": 4,
   "metadata": {},
   "outputs": [],
   "source": [
    "import pandas as pd\n",
    "import requests\n",
    "import configparser\n",
    "import json\n",
    "import matplotlib.pyplot as plt"
   ]
  },
  {
   "cell_type": "code",
   "execution_count": 5,
   "metadata": {},
   "outputs": [
    {
     "data": {
      "text/plain": [
       "'2024-12-09 | 13:04:41'"
      ]
     },
     "execution_count": 5,
     "metadata": {},
     "output_type": "execute_result"
    }
   ],
   "source": [
    "from datetime import datetime, timezone, timedelta\n",
    "gmt_plus_5_30 = timezone(timedelta(hours=5, minutes=30))\n",
    "\n",
    "current_time = datetime.now(gmt_plus_5_30).strftime(\"%Y-%m-%d | %H:%M:%S\")\n",
    "current_time"
   ]
  },
  {
   "cell_type": "markdown",
   "metadata": {},
   "source": [
    "## Load the API keys"
   ]
  },
  {
   "cell_type": "code",
   "execution_count": 6,
   "metadata": {},
   "outputs": [],
   "source": [
    "## Read the API\n",
    "parser = configparser.ConfigParser()\n",
    "parser.read(r\"..\\config\\config.cfg\")\n",
    "api_key = parser[\"KEYS\"][\"api_key\"]"
   ]
  },
  {
   "cell_type": "markdown",
   "metadata": {},
   "source": [
    "## Functions"
   ]
  },
  {
   "cell_type": "code",
   "execution_count": 7,
   "metadata": {},
   "outputs": [],
   "source": [
    "## Get the temperature data from location\n",
    "\n",
    "lat = 19.076\n",
    "lon = 72.8777\n",
    "\n",
    "URL = f\"https://api.openweathermap.org/data/2.5/weather\"\n",
    "CITIES = pd.read_csv(\n",
    "    r\"..\\config\\data\\top_20_cities_india.csv\"\n",
    ")\n",
    "COLUMNS = ['temp', 'feels_like', 'temp_min', 'temp_max', 'pressure', 'humidity', 'sea_level', 'grnd_level']\n",
    "\n",
    "def get_weather_data(lat, lon):\n",
    "    params = {\"lat\": lat, \"lon\": lon, \"appid\": api_key, \"units\": \"metric\"}\n",
    "    response = requests.get(URL, params=params)\n",
    "\n",
    "    data = None\n",
    "    if response.status_code == 200:\n",
    "        json_object = json.loads(response.text)\n",
    "        data = json_object[\"main\"]\n",
    "        data = list(data.values())\n",
    "\n",
    "    else:\n",
    "        print(\"Connection Error\")\n",
    "\n",
    "    return data\n",
    "\n",
    "def get_weather_dataframe():\n",
    "\n",
    "    weather_df = CITIES.copy()\n",
    "    weather_df['weather_data'] = weather_df.apply(lambda x: get_weather_data(x['Latitude'], x['Longitude']), axis=1)\n",
    "    weather_df[COLUMNS] = weather_df['weather_data'].to_list()\n",
    "    weather_df.drop('weather_data', axis=1, inplace=True)\n",
    "\n",
    "    # weather_df.to_csv(export_path)\n",
    "    # print(f\"The data was successfully exported as {export_path}\")\n",
    "    return weather_df"
   ]
  },
  {
   "cell_type": "markdown",
   "metadata": {},
   "source": [
    "## Get the latest weather data"
   ]
  },
  {
   "cell_type": "code",
   "execution_count": 8,
   "metadata": {},
   "outputs": [
    {
     "data": {
      "text/html": [
       "<div>\n",
       "<style scoped>\n",
       "    .dataframe tbody tr th:only-of-type {\n",
       "        vertical-align: middle;\n",
       "    }\n",
       "\n",
       "    .dataframe tbody tr th {\n",
       "        vertical-align: top;\n",
       "    }\n",
       "\n",
       "    .dataframe thead th {\n",
       "        text-align: right;\n",
       "    }\n",
       "</style>\n",
       "<table border=\"1\" class=\"dataframe\">\n",
       "  <thead>\n",
       "    <tr style=\"text-align: right;\">\n",
       "      <th></th>\n",
       "      <th>City</th>\n",
       "      <th>Latitude</th>\n",
       "      <th>Longitude</th>\n",
       "      <th>temp</th>\n",
       "      <th>feels_like</th>\n",
       "      <th>temp_min</th>\n",
       "      <th>temp_max</th>\n",
       "      <th>pressure</th>\n",
       "      <th>humidity</th>\n",
       "      <th>sea_level</th>\n",
       "      <th>grnd_level</th>\n",
       "    </tr>\n",
       "  </thead>\n",
       "  <tbody>\n",
       "    <tr>\n",
       "      <th>1</th>\n",
       "      <td>Delhi</td>\n",
       "      <td>28.7041</td>\n",
       "      <td>77.1025</td>\n",
       "      <td>18.06</td>\n",
       "      <td>17.17</td>\n",
       "      <td>18.06</td>\n",
       "      <td>18.06</td>\n",
       "      <td>1014.0</td>\n",
       "      <td>48.0</td>\n",
       "      <td>1014.0</td>\n",
       "      <td>989.0</td>\n",
       "    </tr>\n",
       "    <tr>\n",
       "      <th>9</th>\n",
       "      <td>Jaipur</td>\n",
       "      <td>26.9124</td>\n",
       "      <td>75.7873</td>\n",
       "      <td>18.68</td>\n",
       "      <td>17.57</td>\n",
       "      <td>18.68</td>\n",
       "      <td>18.68</td>\n",
       "      <td>1014.0</td>\n",
       "      <td>37.0</td>\n",
       "      <td>1014.0</td>\n",
       "      <td>967.0</td>\n",
       "    </tr>\n",
       "    <tr>\n",
       "      <th>15</th>\n",
       "      <td>Bhopal</td>\n",
       "      <td>23.2599</td>\n",
       "      <td>77.4126</td>\n",
       "      <td>20.71</td>\n",
       "      <td>19.62</td>\n",
       "      <td>20.71</td>\n",
       "      <td>20.71</td>\n",
       "      <td>1014.0</td>\n",
       "      <td>30.0</td>\n",
       "      <td>1014.0</td>\n",
       "      <td>957.0</td>\n",
       "    </tr>\n",
       "    <tr>\n",
       "      <th>13</th>\n",
       "      <td>Indore</td>\n",
       "      <td>22.7196</td>\n",
       "      <td>75.8577</td>\n",
       "      <td>21.09</td>\n",
       "      <td>19.99</td>\n",
       "      <td>21.09</td>\n",
       "      <td>21.09</td>\n",
       "      <td>1014.0</td>\n",
       "      <td>28.0</td>\n",
       "      <td>1014.0</td>\n",
       "      <td>950.0</td>\n",
       "    </tr>\n",
       "    <tr>\n",
       "      <th>11</th>\n",
       "      <td>Kanpur</td>\n",
       "      <td>26.4499</td>\n",
       "      <td>80.3319</td>\n",
       "      <td>23.99</td>\n",
       "      <td>23.07</td>\n",
       "      <td>23.99</td>\n",
       "      <td>23.99</td>\n",
       "      <td>1013.0</td>\n",
       "      <td>24.0</td>\n",
       "      <td>1013.0</td>\n",
       "      <td>999.0</td>\n",
       "    </tr>\n",
       "    <tr>\n",
       "      <th>10</th>\n",
       "      <td>Lucknow</td>\n",
       "      <td>26.8467</td>\n",
       "      <td>80.9462</td>\n",
       "      <td>24.02</td>\n",
       "      <td>23.08</td>\n",
       "      <td>24.02</td>\n",
       "      <td>24.02</td>\n",
       "      <td>1013.0</td>\n",
       "      <td>23.0</td>\n",
       "      <td>1013.0</td>\n",
       "      <td>999.0</td>\n",
       "    </tr>\n",
       "    <tr>\n",
       "      <th>4</th>\n",
       "      <td>Ahmedabad</td>\n",
       "      <td>23.0225</td>\n",
       "      <td>72.5714</td>\n",
       "      <td>25.02</td>\n",
       "      <td>23.92</td>\n",
       "      <td>25.02</td>\n",
       "      <td>25.02</td>\n",
       "      <td>1014.0</td>\n",
       "      <td>13.0</td>\n",
       "      <td>1014.0</td>\n",
       "      <td>1009.0</td>\n",
       "    </tr>\n",
       "    <tr>\n",
       "      <th>18</th>\n",
       "      <td>Patna</td>\n",
       "      <td>25.5941</td>\n",
       "      <td>85.1376</td>\n",
       "      <td>23.98</td>\n",
       "      <td>24.24</td>\n",
       "      <td>23.98</td>\n",
       "      <td>23.98</td>\n",
       "      <td>1011.0</td>\n",
       "      <td>69.0</td>\n",
       "      <td>1011.0</td>\n",
       "      <td>1005.0</td>\n",
       "    </tr>\n",
       "    <tr>\n",
       "      <th>7</th>\n",
       "      <td>Surat</td>\n",
       "      <td>21.1702</td>\n",
       "      <td>72.8311</td>\n",
       "      <td>26.94</td>\n",
       "      <td>25.88</td>\n",
       "      <td>26.94</td>\n",
       "      <td>26.94</td>\n",
       "      <td>1013.0</td>\n",
       "      <td>13.0</td>\n",
       "      <td>1013.0</td>\n",
       "      <td>1011.0</td>\n",
       "    </tr>\n",
       "    <tr>\n",
       "      <th>6</th>\n",
       "      <td>Kolkata</td>\n",
       "      <td>22.5726</td>\n",
       "      <td>88.3639</td>\n",
       "      <td>25.96</td>\n",
       "      <td>25.96</td>\n",
       "      <td>25.96</td>\n",
       "      <td>25.96</td>\n",
       "      <td>1011.0</td>\n",
       "      <td>47.0</td>\n",
       "      <td>1011.0</td>\n",
       "      <td>1010.0</td>\n",
       "    </tr>\n",
       "    <tr>\n",
       "      <th>19</th>\n",
       "      <td>Vadodara</td>\n",
       "      <td>22.3072</td>\n",
       "      <td>73.1812</td>\n",
       "      <td>26.00</td>\n",
       "      <td>26.00</td>\n",
       "      <td>26.00</td>\n",
       "      <td>26.00</td>\n",
       "      <td>1015.0</td>\n",
       "      <td>13.0</td>\n",
       "      <td>1015.0</td>\n",
       "      <td>1011.0</td>\n",
       "    </tr>\n",
       "    <tr>\n",
       "      <th>17</th>\n",
       "      <td>Pimpri-Chinchwad</td>\n",
       "      <td>18.6298</td>\n",
       "      <td>73.7997</td>\n",
       "      <td>26.88</td>\n",
       "      <td>26.31</td>\n",
       "      <td>26.88</td>\n",
       "      <td>26.88</td>\n",
       "      <td>1012.0</td>\n",
       "      <td>29.0</td>\n",
       "      <td>1012.0</td>\n",
       "      <td>941.0</td>\n",
       "    </tr>\n",
       "    <tr>\n",
       "      <th>14</th>\n",
       "      <td>Thane</td>\n",
       "      <td>19.2183</td>\n",
       "      <td>72.9781</td>\n",
       "      <td>26.98</td>\n",
       "      <td>26.33</td>\n",
       "      <td>26.98</td>\n",
       "      <td>27.94</td>\n",
       "      <td>1011.0</td>\n",
       "      <td>28.0</td>\n",
       "      <td>1011.0</td>\n",
       "      <td>1006.0</td>\n",
       "    </tr>\n",
       "    <tr>\n",
       "      <th>0</th>\n",
       "      <td>Mumbai</td>\n",
       "      <td>19.0760</td>\n",
       "      <td>72.8777</td>\n",
       "      <td>27.03</td>\n",
       "      <td>26.36</td>\n",
       "      <td>27.03</td>\n",
       "      <td>27.98</td>\n",
       "      <td>1012.0</td>\n",
       "      <td>28.0</td>\n",
       "      <td>1012.0</td>\n",
       "      <td>1010.0</td>\n",
       "    </tr>\n",
       "    <tr>\n",
       "      <th>8</th>\n",
       "      <td>Pune</td>\n",
       "      <td>18.5204</td>\n",
       "      <td>73.8567</td>\n",
       "      <td>27.45</td>\n",
       "      <td>26.75</td>\n",
       "      <td>27.45</td>\n",
       "      <td>27.45</td>\n",
       "      <td>1011.0</td>\n",
       "      <td>31.0</td>\n",
       "      <td>1011.0</td>\n",
       "      <td>939.0</td>\n",
       "    </tr>\n",
       "    <tr>\n",
       "      <th>12</th>\n",
       "      <td>Nagpur</td>\n",
       "      <td>21.1458</td>\n",
       "      <td>79.0882</td>\n",
       "      <td>28.00</td>\n",
       "      <td>28.19</td>\n",
       "      <td>28.00</td>\n",
       "      <td>28.00</td>\n",
       "      <td>1012.0</td>\n",
       "      <td>47.0</td>\n",
       "      <td>1012.0</td>\n",
       "      <td>977.0</td>\n",
       "    </tr>\n",
       "    <tr>\n",
       "      <th>2</th>\n",
       "      <td>Bengaluru</td>\n",
       "      <td>12.9716</td>\n",
       "      <td>77.5946</td>\n",
       "      <td>27.24</td>\n",
       "      <td>28.39</td>\n",
       "      <td>26.36</td>\n",
       "      <td>27.85</td>\n",
       "      <td>1010.0</td>\n",
       "      <td>60.0</td>\n",
       "      <td>1010.0</td>\n",
       "      <td>914.0</td>\n",
       "    </tr>\n",
       "    <tr>\n",
       "      <th>3</th>\n",
       "      <td>Hyderabad</td>\n",
       "      <td>17.3850</td>\n",
       "      <td>78.4867</td>\n",
       "      <td>28.23</td>\n",
       "      <td>29.92</td>\n",
       "      <td>28.23</td>\n",
       "      <td>28.73</td>\n",
       "      <td>1011.0</td>\n",
       "      <td>61.0</td>\n",
       "      <td>1011.0</td>\n",
       "      <td>948.0</td>\n",
       "    </tr>\n",
       "    <tr>\n",
       "      <th>16</th>\n",
       "      <td>Visakhapatnam</td>\n",
       "      <td>17.6868</td>\n",
       "      <td>83.2185</td>\n",
       "      <td>29.78</td>\n",
       "      <td>32.80</td>\n",
       "      <td>29.78</td>\n",
       "      <td>29.78</td>\n",
       "      <td>1010.0</td>\n",
       "      <td>62.0</td>\n",
       "      <td>1010.0</td>\n",
       "      <td>1005.0</td>\n",
       "    </tr>\n",
       "    <tr>\n",
       "      <th>5</th>\n",
       "      <td>Chennai</td>\n",
       "      <td>13.0827</td>\n",
       "      <td>80.2707</td>\n",
       "      <td>30.83</td>\n",
       "      <td>37.74</td>\n",
       "      <td>30.01</td>\n",
       "      <td>31.82</td>\n",
       "      <td>1011.0</td>\n",
       "      <td>72.0</td>\n",
       "      <td>1011.0</td>\n",
       "      <td>1010.0</td>\n",
       "    </tr>\n",
       "  </tbody>\n",
       "</table>\n",
       "</div>"
      ],
      "text/plain": [
       "                City  Latitude  Longitude   temp  feels_like  temp_min  \\\n",
       "1              Delhi   28.7041    77.1025  18.06       17.17     18.06   \n",
       "9             Jaipur   26.9124    75.7873  18.68       17.57     18.68   \n",
       "15            Bhopal   23.2599    77.4126  20.71       19.62     20.71   \n",
       "13            Indore   22.7196    75.8577  21.09       19.99     21.09   \n",
       "11            Kanpur   26.4499    80.3319  23.99       23.07     23.99   \n",
       "10           Lucknow   26.8467    80.9462  24.02       23.08     24.02   \n",
       "4          Ahmedabad   23.0225    72.5714  25.02       23.92     25.02   \n",
       "18             Patna   25.5941    85.1376  23.98       24.24     23.98   \n",
       "7              Surat   21.1702    72.8311  26.94       25.88     26.94   \n",
       "6            Kolkata   22.5726    88.3639  25.96       25.96     25.96   \n",
       "19          Vadodara   22.3072    73.1812  26.00       26.00     26.00   \n",
       "17  Pimpri-Chinchwad   18.6298    73.7997  26.88       26.31     26.88   \n",
       "14             Thane   19.2183    72.9781  26.98       26.33     26.98   \n",
       "0             Mumbai   19.0760    72.8777  27.03       26.36     27.03   \n",
       "8               Pune   18.5204    73.8567  27.45       26.75     27.45   \n",
       "12            Nagpur   21.1458    79.0882  28.00       28.19     28.00   \n",
       "2          Bengaluru   12.9716    77.5946  27.24       28.39     26.36   \n",
       "3          Hyderabad   17.3850    78.4867  28.23       29.92     28.23   \n",
       "16     Visakhapatnam   17.6868    83.2185  29.78       32.80     29.78   \n",
       "5            Chennai   13.0827    80.2707  30.83       37.74     30.01   \n",
       "\n",
       "    temp_max  pressure  humidity  sea_level  grnd_level  \n",
       "1      18.06    1014.0      48.0     1014.0       989.0  \n",
       "9      18.68    1014.0      37.0     1014.0       967.0  \n",
       "15     20.71    1014.0      30.0     1014.0       957.0  \n",
       "13     21.09    1014.0      28.0     1014.0       950.0  \n",
       "11     23.99    1013.0      24.0     1013.0       999.0  \n",
       "10     24.02    1013.0      23.0     1013.0       999.0  \n",
       "4      25.02    1014.0      13.0     1014.0      1009.0  \n",
       "18     23.98    1011.0      69.0     1011.0      1005.0  \n",
       "7      26.94    1013.0      13.0     1013.0      1011.0  \n",
       "6      25.96    1011.0      47.0     1011.0      1010.0  \n",
       "19     26.00    1015.0      13.0     1015.0      1011.0  \n",
       "17     26.88    1012.0      29.0     1012.0       941.0  \n",
       "14     27.94    1011.0      28.0     1011.0      1006.0  \n",
       "0      27.98    1012.0      28.0     1012.0      1010.0  \n",
       "8      27.45    1011.0      31.0     1011.0       939.0  \n",
       "12     28.00    1012.0      47.0     1012.0       977.0  \n",
       "2      27.85    1010.0      60.0     1010.0       914.0  \n",
       "3      28.73    1011.0      61.0     1011.0       948.0  \n",
       "16     29.78    1010.0      62.0     1010.0      1005.0  \n",
       "5      31.82    1011.0      72.0     1011.0      1010.0  "
      ]
     },
     "execution_count": 8,
     "metadata": {},
     "output_type": "execute_result"
    }
   ],
   "source": [
    "## Write it to the database or save it as a flat file\n",
    "export_path = r\"C:\\Users\\kbora\\Desktop\\Development\\Data Engineering\\01-Airflow-Example\\data\\weather.csv\"\n",
    "df_weather = get_weather_dataframe()\n",
    "df_weather.sort_values(by='feels_like')"
   ]
  },
  {
   "cell_type": "code",
   "execution_count": 9,
   "metadata": {},
   "outputs": [],
   "source": [
    "from random import randint"
   ]
  },
  {
   "cell_type": "code",
   "execution_count": 10,
   "metadata": {},
   "outputs": [
    {
     "name": "stdout",
     "output_type": "stream",
     "text": [
      "Help on method randint in module random:\n",
      "\n",
      "randint(a, b) method of random.Random instance\n",
      "    Return random integer in range [a, b], including both end points.\n",
      "\n"
     ]
    }
   ],
   "source": [
    "help(randint)"
   ]
  },
  {
   "cell_type": "code",
   "execution_count": 11,
   "metadata": {},
   "outputs": [
    {
     "data": {
      "text/plain": [
       "('Mumbai', 27.03)"
      ]
     },
     "execution_count": 11,
     "metadata": {},
     "output_type": "execute_result"
    }
   ],
   "source": [
    "city, temp = df_weather.loc[0, ['City', 'temp']]\n",
    "city, temp"
   ]
  },
  {
   "cell_type": "markdown",
   "metadata": {},
   "source": [
    "## Plot the weather data"
   ]
  },
  {
   "cell_type": "code",
   "execution_count": 12,
   "metadata": {},
   "outputs": [],
   "source": [
    "def plot_city_temperatures(df):\n",
    "    \"\"\"\n",
    "    Plots the temperature of cities from the given DataFrame.\n",
    "\n",
    "    df (DataFrame): DataFrame containing city names and their corresponding temperatures.\n",
    "    \"\"\"\n",
    "    fig, ax = plt.subplots(figsize=(12, 6))  # Create a figure and axis\n",
    "\n",
    "    # Create a bar graph\n",
    "    bars = ax.bar(df['City'], df['temp'], color='skyblue')\n",
    "\n",
    "    # Add titles and labels\n",
    "    ax.set_title('Temperature of Cities in India', fontsize=16)\n",
    "    ax.set_xlabel('City', fontsize=14)\n",
    "    ax.set_ylabel('Temperature (°C)', fontsize=14)\n",
    "\n",
    "    # Rotate x-titles for better visibility\n",
    "    ax.set_xticks(range(len(df['City'])))  # Set x-ticks to match the number of cities\n",
    "    ax.set_xticklabels(df['City'], rotation=45, ha='right')\n",
    "\n",
    "    # Add grid for better readability\n",
    "    ax.yaxis.grid(True, linestyle='--', alpha=0.7)\n",
    "\n",
    "    # Add value labels on top of each bar\n",
    "    for bar in bars:\n",
    "        yval = bar.get_height()  # Get the height of the bar\n",
    "        ax.text(bar.get_x() + bar.get_width() / 2, yval, f'{yval:.2f}', \n",
    "                ha='center', va='bottom', fontsize=10)  # Add text above the bar\n",
    "\n",
    "    # Adjust layout to prevent clipping of tick-labels\n",
    "    plt.tight_layout()\n",
    "\n",
    "    # Show the plot\n",
    "    plt.show()"
   ]
  },
  {
   "cell_type": "code",
   "execution_count": 13,
   "metadata": {},
   "outputs": [
    {
     "data": {
      "image/png": "[encoded data removed]",
      "text/plain": [
       "<Figure size 1200x600 with 1 Axes>"
      ]
     },
     "metadata": {},
     "output_type": "display_data"
    }
   ],
   "source": [
    "plot_city_temperatures(df_weather)"
   ]
  },
  {
   "cell_type": "markdown",
   "metadata": {},
   "source": [
    "## Check the total size of the `conda env`"
   ]
  },
  {
   "cell_type": "code",
   "execution_count": 14,
   "metadata": {},
   "outputs": [
    {
     "name": "stdout",
     "output_type": "stream",
     "text": [
      "Size of the conda environment 'airflow-pipeline': 670.14 MB\n"
     ]
    }
   ],
   "source": [
    "import os\n",
    "\n",
    "def get_env_size(env_path):\n",
    "    total_size = 0\n",
    "    for dirpath, dirnames, filenames in os.walk(env_path):\n",
    "        for f in filenames:\n",
    "            fp = os.path.join(dirpath, f)\n",
    "            total_size += os.path.getsize(fp)\n",
    "    return total_size\n",
    "\n",
    "# Replace with the actual path to your conda environment\n",
    "env_path = r'C:\\Users\\kbora\\Anaconda3\\envs\\airflow-pipeline'\n",
    "size_in_bytes = get_env_size(env_path)\n",
    "size_in_mb = size_in_bytes / (1024 * 1024)  # Convert to MB\n",
    "\n",
    "print(f\"Size of the conda environment 'airflow-pipeline': {size_in_mb:.2f} MB\")"
   ]
  },
  {
   "cell_type": "code",
   "execution_count": 15,
   "metadata": {},
   "outputs": [
    {
     "data": {
      "text/plain": [
       "'2024-12-09 13:04:56'"
      ]
     },
     "execution_count": 15,
     "metadata": {},
     "output_type": "execute_result"
    }
   ],
   "source": [
    "import pendulum\n",
    "export_time = pendulum.now('Asia/Kolkata')\n",
    "# Convert to string in a specific format\n",
    "export_time_str = export_time.format('YYYY-MM-DD HH:mm:ss')\n",
    "\n",
    "export_time_str"
   ]
  },
  {
   "cell_type": "code",
   "execution_count": 16,
   "metadata": {},
   "outputs": [
    {
     "name": "stderr",
     "output_type": "stream",
     "text": [
      "C:\\Users\\kbora\\AppData\\Local\\Temp\\ipykernel_25528\\3367160640.py:1: UserWarning: Pandas doesn't allow columns to be created via a new attribute name - see https://pandas.pydata.org/pandas-docs/stable/indexing.html#attribute-access\n",
      "  df_weather.metadata = {\"export_time\": export_time_str}\n"
     ]
    }
   ],
   "source": [
    "df_weather.metadata = {\"export_time\": export_time_str}"
   ]
  },
  {
   "cell_type": "code",
   "execution_count": 18,
   "metadata": {},
   "outputs": [
    {
     "data": {
      "text/plain": [
       "'2024-12-09 13:04:56'"
      ]
     },
     "execution_count": 18,
     "metadata": {},
     "output_type": "execute_result"
    }
   ],
   "source": []
  }
 ],
 "metadata": {
  "kernelspec": {
   "display_name": "gis_env",
   "language": "python",
   "name": "python3"
  },
  "language_info": {
   "codemirror_mode": {
    "name": "ipython",
    "version": 3
   },
   "file_extension": ".py",
   "mimetype": "text/x-python",
   "name": "python",
   "nbconvert_exporter": "python",
   "pygments_lexer": "ipython3",
   "version": "3.8.20"
  }
 },
 "nbformat": 4,
 "nbformat_minor": 2
}
